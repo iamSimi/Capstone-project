{
    "nbformat_minor": 1, 
    "cells": [
        {
            "source": "<h1 align=center> Capstone Project -Battle of Neighbourhood</h1>", 
            "cell_type": "markdown", 
            "metadata": {
                "collapsed": true
            }
        }, 
        {
            "source": "<h1>Introduction</h1>", 
            "cell_type": "markdown", 
            "metadata": {}
        }, 
        {
            "source": "<h2>Back ground of problem</h2>", 
            "cell_type": "markdown", 
            "metadata": {}
        }, 
        {
            "source": "My friend, a restaurant owner in london is planning to open a new branch of his restaurant in Toronto, canada. But he is not much aware of the place. So he wanted to find a best place to start a new restaurant. He also wishes to compare the existing restaurants in Toronto to find out what all cuisines people like and what all tips we can give him so thst he can be successful in his attempt", 
            "cell_type": "markdown", 
            "metadata": {}
        }, 
        {
            "source": "<h5>Food is a basic need for everyone. Good Food makes people happy </h5>\n<h5>So opening a good restaurant in the correct place will be a success</h5>", 
            "cell_type": "markdown", 
            "metadata": {}
        }, 
        {
            "source": "he says!!", 
            "cell_type": "markdown", 
            "metadata": {}
        }, 
        {
            "source": "<h1> Business problem</h1>", 
            "cell_type": "markdown", 
            "metadata": {}
        }, 
        {
            "source": "1.We have to analyze the data of restaurants in Toronto, canada to find which will be the best place to start a restaurant", 
            "cell_type": "markdown", 
            "metadata": {}
        }, 
        {
            "source": "2.Find out the tips after analzing the data to make maximum profit of the business", 
            "cell_type": "markdown", 
            "metadata": {}
        }, 
        {
            "source": "<h1> Data</h1>", 
            "cell_type": "markdown", 
            "metadata": {}
        }, 
        {
            "source": "1.We will be using https://en.wikipedia.org/wiki/List_of_postal_codes_of_Canada:_M to get the data of neighbourhoods in Toronto, canada", 
            "cell_type": "markdown", 
            "metadata": {}
        }, 
        {
            "source": "2.To get the lattitude and longitude we will be using geospatial data http://cocl.us/Geospatial_data", 
            "cell_type": "markdown", 
            "metadata": {}
        }, 
        {
            "source": "3.For the restaurants we will be using the Foursquare API", 
            "cell_type": "markdown", 
            "metadata": {}
        }, 
        {
            "source": "4.To get more insights and tips we will be using the restaurant data for Torornto https://www.opentable.co.uk/toronto-ontario-restaurant-listings", 
            "cell_type": "markdown", 
            "metadata": {}
        }, 
        {
            "execution_count": null, 
            "cell_type": "code", 
            "metadata": {}, 
            "outputs": [], 
            "source": ""
        }
    ], 
    "metadata": {
        "kernelspec": {
            "display_name": "Python 3.6", 
            "name": "python3", 
            "language": "python"
        }, 
        "language_info": {
            "mimetype": "text/x-python", 
            "nbconvert_exporter": "python", 
            "version": "3.6.8", 
            "name": "python", 
            "file_extension": ".py", 
            "pygments_lexer": "ipython3", 
            "codemirror_mode": {
                "version": 3, 
                "name": "ipython"
            }
        }
    }, 
    "nbformat": 4
}